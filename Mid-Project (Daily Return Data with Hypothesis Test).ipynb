{
 "cells": [
  {
   "cell_type": "code",
   "execution_count": 1,
   "id": "80d51f5f",
   "metadata": {},
   "outputs": [],
   "source": [
    "import pandas as pd\n",
    "import seaborn as sns\n",
    "import matplotlib.pyplot as plt\n",
    "import numpy as np\n",
    "import yfinance as yf"
   ]
  },
  {
   "cell_type": "code",
   "execution_count": 2,
   "id": "96ffb143",
   "metadata": {},
   "outputs": [],
   "source": [
    "\n",
    "tickerStrings = [\"^GSPC\"]"
   ]
  },
  {
   "cell_type": "code",
   "execution_count": 3,
   "id": "70353579",
   "metadata": {},
   "outputs": [
    {
     "name": "stdout",
     "output_type": "stream",
     "text": [
      "[*********************100%***********************]  1 of 1 completed\n"
     ]
    }
   ],
   "source": [
    "#Building our Dataframe\n",
    "#I use the following function to create our Dataframe with the tickets I want\n",
    "df_list = list()\n",
    "for ticker in tickerStrings:\n",
    "    data = yf.download(ticker, start=\"2022-01-01\", end=\"2022-12-28\", group_by=\"Column\")\n",
    "    data['ticker'] = ticker  # add this column because the dataframe doesn't contain a column with the ticker\n",
    "    df_list.append(data)\n",
    "\n",
    "# combine all dataframes into a single dataframe\n",
    "df0 = pd.concat(df_list)"
   ]
  },
  {
   "cell_type": "code",
   "execution_count": 4,
   "id": "2c26dea5",
   "metadata": {},
   "outputs": [
    {
     "data": {
      "text/html": [
       "<div>\n",
       "<style scoped>\n",
       "    .dataframe tbody tr th:only-of-type {\n",
       "        vertical-align: middle;\n",
       "    }\n",
       "\n",
       "    .dataframe tbody tr th {\n",
       "        vertical-align: top;\n",
       "    }\n",
       "\n",
       "    .dataframe thead th {\n",
       "        text-align: right;\n",
       "    }\n",
       "</style>\n",
       "<table border=\"1\" class=\"dataframe\">\n",
       "  <thead>\n",
       "    <tr style=\"text-align: right;\">\n",
       "      <th></th>\n",
       "      <th>Daily Return SYP</th>\n",
       "    </tr>\n",
       "    <tr>\n",
       "      <th>Date</th>\n",
       "      <th></th>\n",
       "    </tr>\n",
       "  </thead>\n",
       "  <tbody>\n",
       "    <tr>\n",
       "      <th>2022-01-03</th>\n",
       "      <td>0.385504</td>\n",
       "    </tr>\n",
       "    <tr>\n",
       "      <th>2022-01-04</th>\n",
       "      <td>-0.228321</td>\n",
       "    </tr>\n",
       "    <tr>\n",
       "      <th>2022-01-05</th>\n",
       "      <td>-1.825613</td>\n",
       "    </tr>\n",
       "    <tr>\n",
       "      <th>2022-01-06</th>\n",
       "      <td>0.056668</td>\n",
       "    </tr>\n",
       "    <tr>\n",
       "      <th>2022-01-07</th>\n",
       "      <td>-0.439163</td>\n",
       "    </tr>\n",
       "    <tr>\n",
       "      <th>...</th>\n",
       "      <td>...</td>\n",
       "    </tr>\n",
       "    <tr>\n",
       "      <th>2022-12-20</th>\n",
       "      <td>0.292619</td>\n",
       "    </tr>\n",
       "    <tr>\n",
       "      <th>2022-12-21</th>\n",
       "      <td>1.014456</td>\n",
       "    </tr>\n",
       "    <tr>\n",
       "      <th>2022-12-22</th>\n",
       "      <td>-0.801143</td>\n",
       "    </tr>\n",
       "    <tr>\n",
       "      <th>2022-12-23</th>\n",
       "      <td>0.778745</td>\n",
       "    </tr>\n",
       "    <tr>\n",
       "      <th>2022-12-27</th>\n",
       "      <td>-0.366610</td>\n",
       "    </tr>\n",
       "  </tbody>\n",
       "</table>\n",
       "<p>248 rows × 1 columns</p>\n",
       "</div>"
      ],
      "text/plain": [
       "            Daily Return SYP\n",
       "Date                        \n",
       "2022-01-03          0.385504\n",
       "2022-01-04         -0.228321\n",
       "2022-01-05         -1.825613\n",
       "2022-01-06          0.056668\n",
       "2022-01-07         -0.439163\n",
       "...                      ...\n",
       "2022-12-20          0.292619\n",
       "2022-12-21          1.014456\n",
       "2022-12-22         -0.801143\n",
       "2022-12-23          0.778745\n",
       "2022-12-27         -0.366610\n",
       "\n",
       "[248 rows x 1 columns]"
      ]
     },
     "execution_count": 4,
     "metadata": {},
     "output_type": "execute_result"
    }
   ],
   "source": [
    "df0[\"Daily Return\"] = ((df0[\"Close\"]-df0[\"Open\"])/(df0[\"Open\"]))*100\n",
    "df0 = df0[['Daily Return']]\n",
    "df0.rename(columns={'Daily Return': 'Daily Return SYP'}, inplace=True)\n",
    "df0"
   ]
  },
  {
   "cell_type": "code",
   "execution_count": 5,
   "id": "d486fe95",
   "metadata": {},
   "outputs": [],
   "source": [
    "tickerStrings = [\"^DJI\"]"
   ]
  },
  {
   "cell_type": "code",
   "execution_count": 6,
   "id": "8ed511a0",
   "metadata": {},
   "outputs": [
    {
     "name": "stdout",
     "output_type": "stream",
     "text": [
      "[*********************100%***********************]  1 of 1 completed\n"
     ]
    }
   ],
   "source": [
    "#Building our Dataframe\n",
    "#I use the following function to create our Dataframe with the tickets I want\n",
    "df_list = list()\n",
    "for ticker in tickerStrings:\n",
    "    data = yf.download(ticker, start=\"2022-01-01\", end=\"2022-12-28\", group_by=\"Column\")\n",
    "    data['ticker'] = ticker  # add this column because the dataframe doesn't contain a column with the ticker\n",
    "    df_list.append(data)\n",
    "\n",
    "# combine all dataframes into a single dataframe\n",
    "df1 = pd.concat(df_list)"
   ]
  },
  {
   "cell_type": "code",
   "execution_count": 7,
   "id": "ca5f664d",
   "metadata": {},
   "outputs": [
    {
     "data": {
      "text/html": [
       "<div>\n",
       "<style scoped>\n",
       "    .dataframe tbody tr th:only-of-type {\n",
       "        vertical-align: middle;\n",
       "    }\n",
       "\n",
       "    .dataframe tbody tr th {\n",
       "        vertical-align: top;\n",
       "    }\n",
       "\n",
       "    .dataframe thead th {\n",
       "        text-align: right;\n",
       "    }\n",
       "</style>\n",
       "<table border=\"1\" class=\"dataframe\">\n",
       "  <thead>\n",
       "    <tr style=\"text-align: right;\">\n",
       "      <th></th>\n",
       "      <th>Daily Return DOW</th>\n",
       "    </tr>\n",
       "    <tr>\n",
       "      <th>Date</th>\n",
       "      <th></th>\n",
       "    </tr>\n",
       "  </thead>\n",
       "  <tbody>\n",
       "    <tr>\n",
       "      <th>2022-01-03</th>\n",
       "      <td>0.725378</td>\n",
       "    </tr>\n",
       "    <tr>\n",
       "      <th>2022-01-04</th>\n",
       "      <td>0.446688</td>\n",
       "    </tr>\n",
       "    <tr>\n",
       "      <th>2022-01-05</th>\n",
       "      <td>-0.859123</td>\n",
       "    </tr>\n",
       "    <tr>\n",
       "      <th>2022-01-06</th>\n",
       "      <td>-0.474009</td>\n",
       "    </tr>\n",
       "    <tr>\n",
       "      <th>2022-01-07</th>\n",
       "      <td>-0.049462</td>\n",
       "    </tr>\n",
       "    <tr>\n",
       "      <th>...</th>\n",
       "      <td>...</td>\n",
       "    </tr>\n",
       "    <tr>\n",
       "      <th>2022-12-20</th>\n",
       "      <td>0.349770</td>\n",
       "    </tr>\n",
       "    <tr>\n",
       "      <th>2022-12-21</th>\n",
       "      <td>1.054831</td>\n",
       "    </tr>\n",
       "    <tr>\n",
       "      <th>2022-12-22</th>\n",
       "      <td>-0.619448</td>\n",
       "    </tr>\n",
       "    <tr>\n",
       "      <th>2022-12-23</th>\n",
       "      <td>0.736843</td>\n",
       "    </tr>\n",
       "    <tr>\n",
       "      <th>2022-12-27</th>\n",
       "      <td>0.052155</td>\n",
       "    </tr>\n",
       "  </tbody>\n",
       "</table>\n",
       "<p>248 rows × 1 columns</p>\n",
       "</div>"
      ],
      "text/plain": [
       "            Daily Return DOW\n",
       "Date                        \n",
       "2022-01-03          0.725378\n",
       "2022-01-04          0.446688\n",
       "2022-01-05         -0.859123\n",
       "2022-01-06         -0.474009\n",
       "2022-01-07         -0.049462\n",
       "...                      ...\n",
       "2022-12-20          0.349770\n",
       "2022-12-21          1.054831\n",
       "2022-12-22         -0.619448\n",
       "2022-12-23          0.736843\n",
       "2022-12-27          0.052155\n",
       "\n",
       "[248 rows x 1 columns]"
      ]
     },
     "execution_count": 7,
     "metadata": {},
     "output_type": "execute_result"
    }
   ],
   "source": [
    "df1[\"Daily Return\"] = ((df1[\"Close\"]-df1[\"Open\"])/(df1[\"Open\"]))*100\n",
    "df1 = df1[['Daily Return']]\n",
    "df1.rename(columns={'Daily Return': 'Daily Return DOW'}, inplace=True)\n",
    "df1"
   ]
  },
  {
   "cell_type": "code",
   "execution_count": 8,
   "id": "ead952bd",
   "metadata": {},
   "outputs": [],
   "source": [
    "tickerStrings = [\"^IXIC\"]"
   ]
  },
  {
   "cell_type": "code",
   "execution_count": 9,
   "id": "7652a654",
   "metadata": {},
   "outputs": [
    {
     "name": "stdout",
     "output_type": "stream",
     "text": [
      "[*********************100%***********************]  1 of 1 completed\n"
     ]
    }
   ],
   "source": [
    "#Building our Dataframe\n",
    "#I use the following function to create our Dataframe with the tickets I want\n",
    "df_list = list()\n",
    "for ticker in tickerStrings:\n",
    "    data = yf.download(ticker, start=\"2022-01-01\", end=\"2022-12-28\", group_by=\"Column\")\n",
    "    data['ticker'] = ticker  # add this column because the dataframe doesn't contain a column with the ticker\n",
    "    df_list.append(data)\n",
    "\n",
    "# combine all dataframes into a single dataframe\n",
    "df2 = pd.concat(df_list)"
   ]
  },
  {
   "cell_type": "code",
   "execution_count": 10,
   "id": "325207b7",
   "metadata": {},
   "outputs": [
    {
     "data": {
      "text/html": [
       "<div>\n",
       "<style scoped>\n",
       "    .dataframe tbody tr th:only-of-type {\n",
       "        vertical-align: middle;\n",
       "    }\n",
       "\n",
       "    .dataframe tbody tr th {\n",
       "        vertical-align: top;\n",
       "    }\n",
       "\n",
       "    .dataframe thead th {\n",
       "        text-align: right;\n",
       "    }\n",
       "</style>\n",
       "<table border=\"1\" class=\"dataframe\">\n",
       "  <thead>\n",
       "    <tr style=\"text-align: right;\">\n",
       "      <th></th>\n",
       "      <th>Daily Return NASDAQ</th>\n",
       "    </tr>\n",
       "    <tr>\n",
       "      <th>Date</th>\n",
       "      <th></th>\n",
       "    </tr>\n",
       "  </thead>\n",
       "  <tbody>\n",
       "    <tr>\n",
       "      <th>2022-01-03</th>\n",
       "      <td>0.637533</td>\n",
       "    </tr>\n",
       "    <tr>\n",
       "      <th>2022-01-04</th>\n",
       "      <td>-1.447249</td>\n",
       "    </tr>\n",
       "    <tr>\n",
       "      <th>2022-01-05</th>\n",
       "      <td>-2.875060</td>\n",
       "    </tr>\n",
       "    <tr>\n",
       "      <th>2022-01-06</th>\n",
       "      <td>0.377459</td>\n",
       "    </tr>\n",
       "    <tr>\n",
       "      <th>2022-01-07</th>\n",
       "      <td>-1.058706</td>\n",
       "    </tr>\n",
       "    <tr>\n",
       "      <th>...</th>\n",
       "      <td>...</td>\n",
       "    </tr>\n",
       "    <tr>\n",
       "      <th>2022-12-20</th>\n",
       "      <td>0.535900</td>\n",
       "    </tr>\n",
       "    <tr>\n",
       "      <th>2022-12-21</th>\n",
       "      <td>1.108102</td>\n",
       "    </tr>\n",
       "    <tr>\n",
       "      <th>2022-12-22</th>\n",
       "      <td>-1.042273</td>\n",
       "    </tr>\n",
       "    <tr>\n",
       "      <th>2022-12-23</th>\n",
       "      <td>0.575894</td>\n",
       "    </tr>\n",
       "    <tr>\n",
       "      <th>2022-12-27</th>\n",
       "      <td>-1.041464</td>\n",
       "    </tr>\n",
       "  </tbody>\n",
       "</table>\n",
       "<p>248 rows × 1 columns</p>\n",
       "</div>"
      ],
      "text/plain": [
       "            Daily Return NASDAQ\n",
       "Date                           \n",
       "2022-01-03             0.637533\n",
       "2022-01-04            -1.447249\n",
       "2022-01-05            -2.875060\n",
       "2022-01-06             0.377459\n",
       "2022-01-07            -1.058706\n",
       "...                         ...\n",
       "2022-12-20             0.535900\n",
       "2022-12-21             1.108102\n",
       "2022-12-22            -1.042273\n",
       "2022-12-23             0.575894\n",
       "2022-12-27            -1.041464\n",
       "\n",
       "[248 rows x 1 columns]"
      ]
     },
     "execution_count": 10,
     "metadata": {},
     "output_type": "execute_result"
    }
   ],
   "source": [
    "df2[\"Daily Return\"] = ((df2[\"Close\"]-df2[\"Open\"])/(df2[\"Open\"]))*100\n",
    "df2 = df2[['Daily Return']]\n",
    "df2.rename(columns={'Daily Return': 'Daily Return NASDAQ'}, inplace=True)\n",
    "df2"
   ]
  },
  {
   "cell_type": "code",
   "execution_count": 11,
   "id": "9d9e7a37",
   "metadata": {},
   "outputs": [],
   "source": [
    "tickerStrings = [\"DX-Y.NYB\"]"
   ]
  },
  {
   "cell_type": "code",
   "execution_count": 12,
   "id": "b75c3ec6",
   "metadata": {},
   "outputs": [
    {
     "name": "stdout",
     "output_type": "stream",
     "text": [
      "[*********************100%***********************]  1 of 1 completed\n"
     ]
    }
   ],
   "source": [
    "#Building our Dataframe\n",
    "#I use the following function to create our Dataframe with the tickets I want\n",
    "df_list = list()\n",
    "for ticker in tickerStrings:\n",
    "    data = yf.download(ticker, start=\"2022-01-01\", end=\"2022-12-28\", group_by=\"Column\")\n",
    "    data['ticker'] = ticker  # add this column because the dataframe doesn't contain a column with the ticker\n",
    "    df_list.append(data)\n",
    "\n",
    "# combine all dataframes into a single dataframe\n",
    "df3 = pd.concat(df_list)"
   ]
  },
  {
   "cell_type": "code",
   "execution_count": 13,
   "id": "53eeb826",
   "metadata": {},
   "outputs": [
    {
     "data": {
      "text/html": [
       "<div>\n",
       "<style scoped>\n",
       "    .dataframe tbody tr th:only-of-type {\n",
       "        vertical-align: middle;\n",
       "    }\n",
       "\n",
       "    .dataframe tbody tr th {\n",
       "        vertical-align: top;\n",
       "    }\n",
       "\n",
       "    .dataframe thead th {\n",
       "        text-align: right;\n",
       "    }\n",
       "</style>\n",
       "<table border=\"1\" class=\"dataframe\">\n",
       "  <thead>\n",
       "    <tr style=\"text-align: right;\">\n",
       "      <th></th>\n",
       "      <th>Daily Return Dollar</th>\n",
       "    </tr>\n",
       "    <tr>\n",
       "      <th>Date</th>\n",
       "      <th></th>\n",
       "    </tr>\n",
       "  </thead>\n",
       "  <tbody>\n",
       "    <tr>\n",
       "      <th>2022-01-03</th>\n",
       "      <td>0.595798</td>\n",
       "    </tr>\n",
       "    <tr>\n",
       "      <th>2022-01-04</th>\n",
       "      <td>0.103959</td>\n",
       "    </tr>\n",
       "    <tr>\n",
       "      <th>2022-01-05</th>\n",
       "      <td>-0.124593</td>\n",
       "    </tr>\n",
       "    <tr>\n",
       "      <th>2022-01-06</th>\n",
       "      <td>0.051978</td>\n",
       "    </tr>\n",
       "    <tr>\n",
       "      <th>2022-01-07</th>\n",
       "      <td>-0.540208</td>\n",
       "    </tr>\n",
       "    <tr>\n",
       "      <th>...</th>\n",
       "      <td>...</td>\n",
       "    </tr>\n",
       "    <tr>\n",
       "      <th>2022-12-20</th>\n",
       "      <td>-0.725678</td>\n",
       "    </tr>\n",
       "    <tr>\n",
       "      <th>2022-12-21</th>\n",
       "      <td>0.202027</td>\n",
       "    </tr>\n",
       "    <tr>\n",
       "      <th>2022-12-22</th>\n",
       "      <td>0.201496</td>\n",
       "    </tr>\n",
       "    <tr>\n",
       "      <th>2022-12-23</th>\n",
       "      <td>-0.076637</td>\n",
       "    </tr>\n",
       "    <tr>\n",
       "      <th>2022-12-27</th>\n",
       "      <td>0.057623</td>\n",
       "    </tr>\n",
       "  </tbody>\n",
       "</table>\n",
       "<p>252 rows × 1 columns</p>\n",
       "</div>"
      ],
      "text/plain": [
       "            Daily Return Dollar\n",
       "Date                           \n",
       "2022-01-03             0.595798\n",
       "2022-01-04             0.103959\n",
       "2022-01-05            -0.124593\n",
       "2022-01-06             0.051978\n",
       "2022-01-07            -0.540208\n",
       "...                         ...\n",
       "2022-12-20            -0.725678\n",
       "2022-12-21             0.202027\n",
       "2022-12-22             0.201496\n",
       "2022-12-23            -0.076637\n",
       "2022-12-27             0.057623\n",
       "\n",
       "[252 rows x 1 columns]"
      ]
     },
     "execution_count": 13,
     "metadata": {},
     "output_type": "execute_result"
    }
   ],
   "source": [
    "df3[\"Daily Return\"] = ((df3[\"Close\"]-df3[\"Open\"])/(df3[\"Open\"]))*100\n",
    "df3 = df3[['Daily Return']]\n",
    "df3.rename(columns={'Daily Return': 'Daily Return Dollar'}, inplace=True)\n",
    "df3"
   ]
  },
  {
   "cell_type": "code",
   "execution_count": 14,
   "id": "98af7137",
   "metadata": {},
   "outputs": [],
   "source": [
    "tickerStrings = [\"EURUSD=X\"]"
   ]
  },
  {
   "cell_type": "code",
   "execution_count": 15,
   "id": "0ec4ce50",
   "metadata": {},
   "outputs": [
    {
     "name": "stdout",
     "output_type": "stream",
     "text": [
      "[*********************100%***********************]  1 of 1 completed\n"
     ]
    }
   ],
   "source": [
    "#Building our Dataframe\n",
    "#I use the following function to create our Dataframe with the tickets I want\n",
    "df_list = list()\n",
    "for ticker in tickerStrings:\n",
    "    data = yf.download(ticker, start=\"2022-01-01\", end=\"2022-12-28\", group_by=\"Column\")\n",
    "    data['ticker'] = ticker  # add this column because the dataframe doesn't contain a column with the ticker\n",
    "    df_list.append(data)\n",
    "\n",
    "# combine all dataframes into a single dataframe\n",
    "df4 = pd.concat(df_list)"
   ]
  },
  {
   "cell_type": "code",
   "execution_count": 16,
   "id": "2519c744",
   "metadata": {},
   "outputs": [
    {
     "data": {
      "text/html": [
       "<div>\n",
       "<style scoped>\n",
       "    .dataframe tbody tr th:only-of-type {\n",
       "        vertical-align: middle;\n",
       "    }\n",
       "\n",
       "    .dataframe tbody tr th {\n",
       "        vertical-align: top;\n",
       "    }\n",
       "\n",
       "    .dataframe thead th {\n",
       "        text-align: right;\n",
       "    }\n",
       "</style>\n",
       "<table border=\"1\" class=\"dataframe\">\n",
       "  <thead>\n",
       "    <tr style=\"text-align: right;\">\n",
       "      <th></th>\n",
       "      <th>Daily Return EURUSD</th>\n",
       "    </tr>\n",
       "    <tr>\n",
       "      <th>Date</th>\n",
       "      <th></th>\n",
       "    </tr>\n",
       "  </thead>\n",
       "  <tbody>\n",
       "    <tr>\n",
       "      <th>2022-01-03</th>\n",
       "      <td>-0.003406</td>\n",
       "    </tr>\n",
       "    <tr>\n",
       "      <th>2022-01-04</th>\n",
       "      <td>0.002268</td>\n",
       "    </tr>\n",
       "    <tr>\n",
       "      <th>2022-01-05</th>\n",
       "      <td>-0.015792</td>\n",
       "    </tr>\n",
       "    <tr>\n",
       "      <th>2022-01-06</th>\n",
       "      <td>0.011307</td>\n",
       "    </tr>\n",
       "    <tr>\n",
       "      <th>2022-01-07</th>\n",
       "      <td>0.009034</td>\n",
       "    </tr>\n",
       "    <tr>\n",
       "      <th>...</th>\n",
       "      <td>...</td>\n",
       "    </tr>\n",
       "    <tr>\n",
       "      <th>2022-12-21</th>\n",
       "      <td>0.000000</td>\n",
       "    </tr>\n",
       "    <tr>\n",
       "      <th>2022-12-22</th>\n",
       "      <td>0.000000</td>\n",
       "    </tr>\n",
       "    <tr>\n",
       "      <th>2022-12-23</th>\n",
       "      <td>0.000000</td>\n",
       "    </tr>\n",
       "    <tr>\n",
       "      <th>2022-12-26</th>\n",
       "      <td>0.000000</td>\n",
       "    </tr>\n",
       "    <tr>\n",
       "      <th>2022-12-27</th>\n",
       "      <td>0.000000</td>\n",
       "    </tr>\n",
       "  </tbody>\n",
       "</table>\n",
       "<p>257 rows × 1 columns</p>\n",
       "</div>"
      ],
      "text/plain": [
       "            Daily Return EURUSD\n",
       "Date                           \n",
       "2022-01-03            -0.003406\n",
       "2022-01-04             0.002268\n",
       "2022-01-05            -0.015792\n",
       "2022-01-06             0.011307\n",
       "2022-01-07             0.009034\n",
       "...                         ...\n",
       "2022-12-21             0.000000\n",
       "2022-12-22             0.000000\n",
       "2022-12-23             0.000000\n",
       "2022-12-26             0.000000\n",
       "2022-12-27             0.000000\n",
       "\n",
       "[257 rows x 1 columns]"
      ]
     },
     "execution_count": 16,
     "metadata": {},
     "output_type": "execute_result"
    }
   ],
   "source": [
    "df4[\"Daily Return\"] = ((df4[\"Close\"]-df4[\"Open\"])/(df4[\"Open\"]))*100\n",
    "df4 = df4[['Daily Return']]\n",
    "df4.rename(columns={'Daily Return': 'Daily Return EURUSD'}, inplace=True)\n",
    "df4"
   ]
  },
  {
   "cell_type": "code",
   "execution_count": 17,
   "id": "0656522c",
   "metadata": {},
   "outputs": [],
   "source": [
    "tickerStrings = [\"JPY=X\"]"
   ]
  },
  {
   "cell_type": "code",
   "execution_count": 18,
   "id": "aa706aa9",
   "metadata": {},
   "outputs": [
    {
     "name": "stdout",
     "output_type": "stream",
     "text": [
      "[*********************100%***********************]  1 of 1 completed\n"
     ]
    }
   ],
   "source": [
    "#Building our Dataframe\n",
    "#I use the following function to create our Dataframe with the tickets I want\n",
    "df_list = list()\n",
    "for ticker in tickerStrings:\n",
    "    data = yf.download(ticker, start=\"2022-01-01\", end=\"2022-12-28\", group_by=\"Column\")\n",
    "    data['ticker'] = ticker  # add this column because the dataframe doesn't contain a column with the ticker\n",
    "    df_list.append(data)\n",
    "\n",
    "# combine all dataframes into a single dataframe\n",
    "df5 = pd.concat(df_list)"
   ]
  },
  {
   "cell_type": "code",
   "execution_count": 19,
   "id": "31ff3815",
   "metadata": {},
   "outputs": [
    {
     "data": {
      "text/html": [
       "<div>\n",
       "<style scoped>\n",
       "    .dataframe tbody tr th:only-of-type {\n",
       "        vertical-align: middle;\n",
       "    }\n",
       "\n",
       "    .dataframe tbody tr th {\n",
       "        vertical-align: top;\n",
       "    }\n",
       "\n",
       "    .dataframe thead th {\n",
       "        text-align: right;\n",
       "    }\n",
       "</style>\n",
       "<table border=\"1\" class=\"dataframe\">\n",
       "  <thead>\n",
       "    <tr style=\"text-align: right;\">\n",
       "      <th></th>\n",
       "      <th>Daily Return JPYUSD</th>\n",
       "    </tr>\n",
       "    <tr>\n",
       "      <th>Date</th>\n",
       "      <th></th>\n",
       "    </tr>\n",
       "  </thead>\n",
       "  <tbody>\n",
       "    <tr>\n",
       "      <th>2022-01-03</th>\n",
       "      <td>0.005208</td>\n",
       "    </tr>\n",
       "    <tr>\n",
       "      <th>2022-01-04</th>\n",
       "      <td>0.010407</td>\n",
       "    </tr>\n",
       "    <tr>\n",
       "      <th>2022-01-05</th>\n",
       "      <td>0.007750</td>\n",
       "    </tr>\n",
       "    <tr>\n",
       "      <th>2022-01-06</th>\n",
       "      <td>-0.000861</td>\n",
       "    </tr>\n",
       "    <tr>\n",
       "      <th>2022-01-07</th>\n",
       "      <td>-0.004319</td>\n",
       "    </tr>\n",
       "    <tr>\n",
       "      <th>...</th>\n",
       "      <td>...</td>\n",
       "    </tr>\n",
       "    <tr>\n",
       "      <th>2022-12-21</th>\n",
       "      <td>0.000000</td>\n",
       "    </tr>\n",
       "    <tr>\n",
       "      <th>2022-12-22</th>\n",
       "      <td>0.000000</td>\n",
       "    </tr>\n",
       "    <tr>\n",
       "      <th>2022-12-23</th>\n",
       "      <td>0.000000</td>\n",
       "    </tr>\n",
       "    <tr>\n",
       "      <th>2022-12-26</th>\n",
       "      <td>0.015055</td>\n",
       "    </tr>\n",
       "    <tr>\n",
       "      <th>2022-12-27</th>\n",
       "      <td>0.000000</td>\n",
       "    </tr>\n",
       "  </tbody>\n",
       "</table>\n",
       "<p>257 rows × 1 columns</p>\n",
       "</div>"
      ],
      "text/plain": [
       "            Daily Return JPYUSD\n",
       "Date                           \n",
       "2022-01-03             0.005208\n",
       "2022-01-04             0.010407\n",
       "2022-01-05             0.007750\n",
       "2022-01-06            -0.000861\n",
       "2022-01-07            -0.004319\n",
       "...                         ...\n",
       "2022-12-21             0.000000\n",
       "2022-12-22             0.000000\n",
       "2022-12-23             0.000000\n",
       "2022-12-26             0.015055\n",
       "2022-12-27             0.000000\n",
       "\n",
       "[257 rows x 1 columns]"
      ]
     },
     "execution_count": 19,
     "metadata": {},
     "output_type": "execute_result"
    }
   ],
   "source": [
    "df5[\"Daily Return\"] = ((df5[\"Close\"]-df5[\"Open\"])/(df5[\"Open\"]))*100\n",
    "df5 = df5[['Daily Return']]\n",
    "df5.rename(columns={'Daily Return': 'Daily Return JPYUSD'}, inplace=True)\n",
    "df5"
   ]
  },
  {
   "cell_type": "code",
   "execution_count": 20,
   "id": "556f586d",
   "metadata": {},
   "outputs": [],
   "source": [
    "tickerStrings = [\"^TNX\"]"
   ]
  },
  {
   "cell_type": "code",
   "execution_count": 21,
   "id": "85bdab6f",
   "metadata": {},
   "outputs": [
    {
     "name": "stdout",
     "output_type": "stream",
     "text": [
      "[*********************100%***********************]  1 of 1 completed\n"
     ]
    }
   ],
   "source": [
    "#Building our Dataframe\n",
    "#I use the following function to create our Dataframe with the tickets I want\n",
    "df_list = list()\n",
    "for ticker in tickerStrings:\n",
    "    data = yf.download(ticker, start=\"2022-01-01\", end=\"2022-12-28\", group_by=\"Column\")\n",
    "    data['ticker'] = ticker  # add this column because the dataframe doesn't contain a column with the ticker\n",
    "    df_list.append(data)\n",
    "\n",
    "# combine all dataframes into a single dataframe\n",
    "df6 = pd.concat(df_list)"
   ]
  },
  {
   "cell_type": "code",
   "execution_count": 22,
   "id": "3f707171",
   "metadata": {},
   "outputs": [
    {
     "data": {
      "text/html": [
       "<div>\n",
       "<style scoped>\n",
       "    .dataframe tbody tr th:only-of-type {\n",
       "        vertical-align: middle;\n",
       "    }\n",
       "\n",
       "    .dataframe tbody tr th {\n",
       "        vertical-align: top;\n",
       "    }\n",
       "\n",
       "    .dataframe thead th {\n",
       "        text-align: right;\n",
       "    }\n",
       "</style>\n",
       "<table border=\"1\" class=\"dataframe\">\n",
       "  <thead>\n",
       "    <tr style=\"text-align: right;\">\n",
       "      <th></th>\n",
       "      <th>Daily Return TBOND</th>\n",
       "    </tr>\n",
       "    <tr>\n",
       "      <th>Date</th>\n",
       "      <th></th>\n",
       "    </tr>\n",
       "  </thead>\n",
       "  <tbody>\n",
       "    <tr>\n",
       "      <th>2022-01-03</th>\n",
       "      <td>6.127769</td>\n",
       "    </tr>\n",
       "    <tr>\n",
       "      <th>2022-01-04</th>\n",
       "      <td>0.300661</td>\n",
       "    </tr>\n",
       "    <tr>\n",
       "      <th>2022-01-05</th>\n",
       "      <td>2.710848</td>\n",
       "    </tr>\n",
       "    <tr>\n",
       "      <th>2022-01-06</th>\n",
       "      <td>0.000000</td>\n",
       "    </tr>\n",
       "    <tr>\n",
       "      <th>2022-01-07</th>\n",
       "      <td>1.840142</td>\n",
       "    </tr>\n",
       "    <tr>\n",
       "      <th>...</th>\n",
       "      <td>...</td>\n",
       "    </tr>\n",
       "    <tr>\n",
       "      <th>2022-12-20</th>\n",
       "      <td>0.600767</td>\n",
       "    </tr>\n",
       "    <tr>\n",
       "      <th>2022-12-21</th>\n",
       "      <td>1.014531</td>\n",
       "    </tr>\n",
       "    <tr>\n",
       "      <th>2022-12-22</th>\n",
       "      <td>0.410505</td>\n",
       "    </tr>\n",
       "    <tr>\n",
       "      <th>2022-12-23</th>\n",
       "      <td>1.350985</td>\n",
       "    </tr>\n",
       "    <tr>\n",
       "      <th>2022-12-27</th>\n",
       "      <td>1.927646</td>\n",
       "    </tr>\n",
       "  </tbody>\n",
       "</table>\n",
       "<p>248 rows × 1 columns</p>\n",
       "</div>"
      ],
      "text/plain": [
       "            Daily Return TBOND\n",
       "Date                          \n",
       "2022-01-03            6.127769\n",
       "2022-01-04            0.300661\n",
       "2022-01-05            2.710848\n",
       "2022-01-06            0.000000\n",
       "2022-01-07            1.840142\n",
       "...                        ...\n",
       "2022-12-20            0.600767\n",
       "2022-12-21            1.014531\n",
       "2022-12-22            0.410505\n",
       "2022-12-23            1.350985\n",
       "2022-12-27            1.927646\n",
       "\n",
       "[248 rows x 1 columns]"
      ]
     },
     "execution_count": 22,
     "metadata": {},
     "output_type": "execute_result"
    }
   ],
   "source": [
    "df6[\"Daily Return\"] = ((df6[\"Close\"]-df6[\"Open\"])/(df6[\"Open\"]))*100\n",
    "df6 = df6[['Daily Return']]\n",
    "df6.rename(columns={'Daily Return': 'Daily Return TBOND'}, inplace=True)\n",
    "df6"
   ]
  },
  {
   "cell_type": "code",
   "execution_count": 23,
   "id": "58946a1b",
   "metadata": {},
   "outputs": [],
   "source": [
    "tickerStrings = [\"^VIX\"]"
   ]
  },
  {
   "cell_type": "code",
   "execution_count": 24,
   "id": "404445f3",
   "metadata": {},
   "outputs": [
    {
     "name": "stdout",
     "output_type": "stream",
     "text": [
      "[*********************100%***********************]  1 of 1 completed\n"
     ]
    }
   ],
   "source": [
    "#Building our Dataframe\n",
    "#I use the following function to create our Dataframe with the tickets I want\n",
    "df_list = list()\n",
    "for ticker in tickerStrings:\n",
    "    data = yf.download(ticker, start=\"2022-01-01\", end=\"2022-12-28\", group_by=\"Column\")\n",
    "    data['ticker'] = ticker  # add this column because the dataframe doesn't contain a column with the ticker\n",
    "    df_list.append(data)\n",
    "\n",
    "# combine all dataframes into a single dataframe\n",
    "df7 = pd.concat(df_list)"
   ]
  },
  {
   "cell_type": "code",
   "execution_count": 25,
   "id": "8acb54ff",
   "metadata": {},
   "outputs": [
    {
     "data": {
      "text/html": [
       "<div>\n",
       "<style scoped>\n",
       "    .dataframe tbody tr th:only-of-type {\n",
       "        vertical-align: middle;\n",
       "    }\n",
       "\n",
       "    .dataframe tbody tr th {\n",
       "        vertical-align: top;\n",
       "    }\n",
       "\n",
       "    .dataframe thead th {\n",
       "        text-align: right;\n",
       "    }\n",
       "</style>\n",
       "<table border=\"1\" class=\"dataframe\">\n",
       "  <thead>\n",
       "    <tr style=\"text-align: right;\">\n",
       "      <th></th>\n",
       "      <th>Daily Return VIX</th>\n",
       "    </tr>\n",
       "    <tr>\n",
       "      <th>Date</th>\n",
       "      <th></th>\n",
       "    </tr>\n",
       "  </thead>\n",
       "  <tbody>\n",
       "    <tr>\n",
       "      <th>2022-01-03</th>\n",
       "      <td>-5.681818</td>\n",
       "    </tr>\n",
       "    <tr>\n",
       "      <th>2022-01-04</th>\n",
       "      <td>2.051902</td>\n",
       "    </tr>\n",
       "    <tr>\n",
       "      <th>2022-01-05</th>\n",
       "      <td>15.582893</td>\n",
       "    </tr>\n",
       "    <tr>\n",
       "      <th>2022-01-06</th>\n",
       "      <td>-3.351406</td>\n",
       "    </tr>\n",
       "    <tr>\n",
       "      <th>2022-01-07</th>\n",
       "      <td>-5.491185</td>\n",
       "    </tr>\n",
       "    <tr>\n",
       "      <th>...</th>\n",
       "      <td>...</td>\n",
       "    </tr>\n",
       "    <tr>\n",
       "      <th>2022-12-20</th>\n",
       "      <td>-7.293917</td>\n",
       "    </tr>\n",
       "    <tr>\n",
       "      <th>2022-12-21</th>\n",
       "      <td>-5.552943</td>\n",
       "    </tr>\n",
       "    <tr>\n",
       "      <th>2022-12-22</th>\n",
       "      <td>9.412348</td>\n",
       "    </tr>\n",
       "    <tr>\n",
       "      <th>2022-12-23</th>\n",
       "      <td>-5.863776</td>\n",
       "    </tr>\n",
       "    <tr>\n",
       "      <th>2022-12-27</th>\n",
       "      <td>-0.092296</td>\n",
       "    </tr>\n",
       "  </tbody>\n",
       "</table>\n",
       "<p>248 rows × 1 columns</p>\n",
       "</div>"
      ],
      "text/plain": [
       "            Daily Return VIX\n",
       "Date                        \n",
       "2022-01-03         -5.681818\n",
       "2022-01-04          2.051902\n",
       "2022-01-05         15.582893\n",
       "2022-01-06         -3.351406\n",
       "2022-01-07         -5.491185\n",
       "...                      ...\n",
       "2022-12-20         -7.293917\n",
       "2022-12-21         -5.552943\n",
       "2022-12-22          9.412348\n",
       "2022-12-23         -5.863776\n",
       "2022-12-27         -0.092296\n",
       "\n",
       "[248 rows x 1 columns]"
      ]
     },
     "execution_count": 25,
     "metadata": {},
     "output_type": "execute_result"
    }
   ],
   "source": [
    "df7[\"Daily Return\"] = ((df7[\"Close\"]-df7[\"Open\"])/(df7[\"Open\"]))*100\n",
    "df7 = df7[['Daily Return']]\n",
    "df7.rename(columns={'Daily Return': 'Daily Return VIX'}, inplace=True)\n",
    "df7"
   ]
  },
  {
   "cell_type": "code",
   "execution_count": 26,
   "id": "7f4a0c9d",
   "metadata": {},
   "outputs": [],
   "source": [
    "tickerStrings = [\"GC=F\"]"
   ]
  },
  {
   "cell_type": "code",
   "execution_count": 27,
   "id": "beadfe4a",
   "metadata": {},
   "outputs": [
    {
     "name": "stdout",
     "output_type": "stream",
     "text": [
      "[*********************100%***********************]  1 of 1 completed\n"
     ]
    }
   ],
   "source": [
    "#Building our Dataframe\n",
    "#I use the following function to create our Dataframe with the tickets I want\n",
    "df_list = list()\n",
    "for ticker in tickerStrings:\n",
    "    data = yf.download(ticker, start=\"2022-01-01\", end=\"2022-12-28\", group_by=\"Column\")\n",
    "    data['ticker'] = ticker  # add this column because the dataframe doesn't contain a column with the ticker\n",
    "    df_list.append(data)\n",
    "\n",
    "# combine all dataframes into a single dataframe\n",
    "df8 = pd.concat(df_list)"
   ]
  },
  {
   "cell_type": "code",
   "execution_count": 28,
   "id": "edc22991",
   "metadata": {},
   "outputs": [
    {
     "data": {
      "text/html": [
       "<div>\n",
       "<style scoped>\n",
       "    .dataframe tbody tr th:only-of-type {\n",
       "        vertical-align: middle;\n",
       "    }\n",
       "\n",
       "    .dataframe tbody tr th {\n",
       "        vertical-align: top;\n",
       "    }\n",
       "\n",
       "    .dataframe thead th {\n",
       "        text-align: right;\n",
       "    }\n",
       "</style>\n",
       "<table border=\"1\" class=\"dataframe\">\n",
       "  <thead>\n",
       "    <tr style=\"text-align: right;\">\n",
       "      <th></th>\n",
       "      <th>Daily Return GOLD</th>\n",
       "    </tr>\n",
       "    <tr>\n",
       "      <th>Date</th>\n",
       "      <th></th>\n",
       "    </tr>\n",
       "  </thead>\n",
       "  <tbody>\n",
       "    <tr>\n",
       "      <th>2022-01-03</th>\n",
       "      <td>-1.677501</td>\n",
       "    </tr>\n",
       "    <tr>\n",
       "      <th>2022-01-04</th>\n",
       "      <td>0.749792</td>\n",
       "    </tr>\n",
       "    <tr>\n",
       "      <th>2022-01-05</th>\n",
       "      <td>0.634273</td>\n",
       "    </tr>\n",
       "    <tr>\n",
       "      <th>2022-01-06</th>\n",
       "      <td>0.089529</td>\n",
       "    </tr>\n",
       "    <tr>\n",
       "      <th>2022-01-07</th>\n",
       "      <td>0.290208</td>\n",
       "    </tr>\n",
       "    <tr>\n",
       "      <th>...</th>\n",
       "      <td>...</td>\n",
       "    </tr>\n",
       "    <tr>\n",
       "      <th>2022-12-20</th>\n",
       "      <td>1.645677</td>\n",
       "    </tr>\n",
       "    <tr>\n",
       "      <th>2022-12-21</th>\n",
       "      <td>-0.082535</td>\n",
       "    </tr>\n",
       "    <tr>\n",
       "      <th>2022-12-22</th>\n",
       "      <td>-1.710576</td>\n",
       "    </tr>\n",
       "    <tr>\n",
       "      <th>2022-12-23</th>\n",
       "      <td>0.089170</td>\n",
       "    </tr>\n",
       "    <tr>\n",
       "      <th>2022-12-27</th>\n",
       "      <td>0.632141</td>\n",
       "    </tr>\n",
       "  </tbody>\n",
       "</table>\n",
       "<p>248 rows × 1 columns</p>\n",
       "</div>"
      ],
      "text/plain": [
       "            Daily Return GOLD\n",
       "Date                         \n",
       "2022-01-03          -1.677501\n",
       "2022-01-04           0.749792\n",
       "2022-01-05           0.634273\n",
       "2022-01-06           0.089529\n",
       "2022-01-07           0.290208\n",
       "...                       ...\n",
       "2022-12-20           1.645677\n",
       "2022-12-21          -0.082535\n",
       "2022-12-22          -1.710576\n",
       "2022-12-23           0.089170\n",
       "2022-12-27           0.632141\n",
       "\n",
       "[248 rows x 1 columns]"
      ]
     },
     "execution_count": 28,
     "metadata": {},
     "output_type": "execute_result"
    }
   ],
   "source": [
    "df8[\"Daily Return\"] = ((df8[\"Close\"]-df8[\"Open\"])/(df8[\"Open\"]))*100\n",
    "df8 = df8[['Daily Return']]\n",
    "df8.rename(columns={'Daily Return': 'Daily Return GOLD'}, inplace=True)\n",
    "df8"
   ]
  },
  {
   "cell_type": "code",
   "execution_count": 29,
   "id": "411a8cd3",
   "metadata": {},
   "outputs": [],
   "source": [
    "tickerStrings = [\"CL=F\"]"
   ]
  },
  {
   "cell_type": "code",
   "execution_count": 30,
   "id": "1b78ddb6",
   "metadata": {},
   "outputs": [
    {
     "name": "stdout",
     "output_type": "stream",
     "text": [
      "[*********************100%***********************]  1 of 1 completed\n"
     ]
    }
   ],
   "source": [
    "#Building our Dataframe\n",
    "#I use the following function to create our Dataframe with the tickets I want\n",
    "df_list = list()\n",
    "for ticker in tickerStrings:\n",
    "    data = yf.download(ticker, start=\"2022-01-01\", end=\"2022-12-28\", group_by=\"Column\")\n",
    "    data['ticker'] = ticker  # add this column because the dataframe doesn't contain a column with the ticker\n",
    "    df_list.append(data)\n",
    "\n",
    "# combine all dataframes into a single dataframe\n",
    "df9 = pd.concat(df_list)"
   ]
  },
  {
   "cell_type": "code",
   "execution_count": 31,
   "id": "3479f0cc",
   "metadata": {},
   "outputs": [
    {
     "data": {
      "text/html": [
       "<div>\n",
       "<style scoped>\n",
       "    .dataframe tbody tr th:only-of-type {\n",
       "        vertical-align: middle;\n",
       "    }\n",
       "\n",
       "    .dataframe tbody tr th {\n",
       "        vertical-align: top;\n",
       "    }\n",
       "\n",
       "    .dataframe thead th {\n",
       "        text-align: right;\n",
       "    }\n",
       "</style>\n",
       "<table border=\"1\" class=\"dataframe\">\n",
       "  <thead>\n",
       "    <tr style=\"text-align: right;\">\n",
       "      <th></th>\n",
       "      <th>Daily Return WTI</th>\n",
       "    </tr>\n",
       "    <tr>\n",
       "      <th>Date</th>\n",
       "      <th></th>\n",
       "    </tr>\n",
       "  </thead>\n",
       "  <tbody>\n",
       "    <tr>\n",
       "      <th>2022-01-03</th>\n",
       "      <td>0.515259</td>\n",
       "    </tr>\n",
       "    <tr>\n",
       "      <th>2022-01-04</th>\n",
       "      <td>1.275982</td>\n",
       "    </tr>\n",
       "    <tr>\n",
       "      <th>2022-01-05</th>\n",
       "      <td>0.868098</td>\n",
       "    </tr>\n",
       "    <tr>\n",
       "      <th>2022-01-06</th>\n",
       "      <td>2.874160</td>\n",
       "    </tr>\n",
       "    <tr>\n",
       "      <th>2022-01-07</th>\n",
       "      <td>-0.904297</td>\n",
       "    </tr>\n",
       "    <tr>\n",
       "      <th>...</th>\n",
       "      <td>...</td>\n",
       "    </tr>\n",
       "    <tr>\n",
       "      <th>2022-12-20</th>\n",
       "      <td>0.515191</td>\n",
       "    </tr>\n",
       "    <tr>\n",
       "      <th>2022-12-21</th>\n",
       "      <td>3.026718</td>\n",
       "    </tr>\n",
       "    <tr>\n",
       "      <th>2022-12-22</th>\n",
       "      <td>-1.198524</td>\n",
       "    </tr>\n",
       "    <tr>\n",
       "      <th>2022-12-23</th>\n",
       "      <td>1.765154</td>\n",
       "    </tr>\n",
       "    <tr>\n",
       "      <th>2022-12-27</th>\n",
       "      <td>-0.463082</td>\n",
       "    </tr>\n",
       "  </tbody>\n",
       "</table>\n",
       "<p>249 rows × 1 columns</p>\n",
       "</div>"
      ],
      "text/plain": [
       "            Daily Return WTI\n",
       "Date                        \n",
       "2022-01-03          0.515259\n",
       "2022-01-04          1.275982\n",
       "2022-01-05          0.868098\n",
       "2022-01-06          2.874160\n",
       "2022-01-07         -0.904297\n",
       "...                      ...\n",
       "2022-12-20          0.515191\n",
       "2022-12-21          3.026718\n",
       "2022-12-22         -1.198524\n",
       "2022-12-23          1.765154\n",
       "2022-12-27         -0.463082\n",
       "\n",
       "[249 rows x 1 columns]"
      ]
     },
     "execution_count": 31,
     "metadata": {},
     "output_type": "execute_result"
    }
   ],
   "source": [
    "df9[\"Daily Return\"] = ((df9[\"Close\"]-df9[\"Open\"])/(df9[\"Open\"]))*100\n",
    "df9 = df9[['Daily Return']]\n",
    "df9.rename(columns={'Daily Return': 'Daily Return WTI'}, inplace=True)\n",
    "df9"
   ]
  },
  {
   "cell_type": "code",
   "execution_count": 32,
   "id": "06a9180b",
   "metadata": {},
   "outputs": [
    {
     "data": {
      "text/html": [
       "<div>\n",
       "<style scoped>\n",
       "    .dataframe tbody tr th:only-of-type {\n",
       "        vertical-align: middle;\n",
       "    }\n",
       "\n",
       "    .dataframe tbody tr th {\n",
       "        vertical-align: top;\n",
       "    }\n",
       "\n",
       "    .dataframe thead th {\n",
       "        text-align: right;\n",
       "    }\n",
       "</style>\n",
       "<table border=\"1\" class=\"dataframe\">\n",
       "  <thead>\n",
       "    <tr style=\"text-align: right;\">\n",
       "      <th></th>\n",
       "      <th>Daily Return SYP</th>\n",
       "      <th>Daily Return DOW</th>\n",
       "      <th>Daily Return NASDAQ</th>\n",
       "      <th>Daily Return Dollar</th>\n",
       "      <th>Daily Return EURUSD</th>\n",
       "      <th>Daily Return JPYUSD</th>\n",
       "      <th>Daily Return TBOND</th>\n",
       "      <th>Daily Return VIX</th>\n",
       "      <th>Daily Return GOLD</th>\n",
       "      <th>Daily Return WTI</th>\n",
       "    </tr>\n",
       "    <tr>\n",
       "      <th>Date</th>\n",
       "      <th></th>\n",
       "      <th></th>\n",
       "      <th></th>\n",
       "      <th></th>\n",
       "      <th></th>\n",
       "      <th></th>\n",
       "      <th></th>\n",
       "      <th></th>\n",
       "      <th></th>\n",
       "      <th></th>\n",
       "    </tr>\n",
       "  </thead>\n",
       "  <tbody>\n",
       "    <tr>\n",
       "      <th>2022-01-03</th>\n",
       "      <td>0.385504</td>\n",
       "      <td>0.725378</td>\n",
       "      <td>0.637533</td>\n",
       "      <td>0.595798</td>\n",
       "      <td>-0.003406</td>\n",
       "      <td>0.005208</td>\n",
       "      <td>6.127769</td>\n",
       "      <td>-5.681818</td>\n",
       "      <td>-1.677501</td>\n",
       "      <td>0.515259</td>\n",
       "    </tr>\n",
       "    <tr>\n",
       "      <th>2022-01-04</th>\n",
       "      <td>-0.228321</td>\n",
       "      <td>0.446688</td>\n",
       "      <td>-1.447249</td>\n",
       "      <td>0.103959</td>\n",
       "      <td>0.002268</td>\n",
       "      <td>0.010407</td>\n",
       "      <td>0.300661</td>\n",
       "      <td>2.051902</td>\n",
       "      <td>0.749792</td>\n",
       "      <td>1.275982</td>\n",
       "    </tr>\n",
       "    <tr>\n",
       "      <th>2022-01-05</th>\n",
       "      <td>-1.825613</td>\n",
       "      <td>-0.859123</td>\n",
       "      <td>-2.875060</td>\n",
       "      <td>-0.124593</td>\n",
       "      <td>-0.015792</td>\n",
       "      <td>0.007750</td>\n",
       "      <td>2.710848</td>\n",
       "      <td>15.582893</td>\n",
       "      <td>0.634273</td>\n",
       "      <td>0.868098</td>\n",
       "    </tr>\n",
       "    <tr>\n",
       "      <th>2022-01-06</th>\n",
       "      <td>0.056668</td>\n",
       "      <td>-0.474009</td>\n",
       "      <td>0.377459</td>\n",
       "      <td>0.051978</td>\n",
       "      <td>0.011307</td>\n",
       "      <td>-0.000861</td>\n",
       "      <td>0.000000</td>\n",
       "      <td>-3.351406</td>\n",
       "      <td>0.089529</td>\n",
       "      <td>2.874160</td>\n",
       "    </tr>\n",
       "    <tr>\n",
       "      <th>2022-01-07</th>\n",
       "      <td>-0.439163</td>\n",
       "      <td>-0.049462</td>\n",
       "      <td>-1.058706</td>\n",
       "      <td>-0.540208</td>\n",
       "      <td>0.009034</td>\n",
       "      <td>-0.004319</td>\n",
       "      <td>1.840142</td>\n",
       "      <td>-5.491185</td>\n",
       "      <td>0.290208</td>\n",
       "      <td>-0.904297</td>\n",
       "    </tr>\n",
       "  </tbody>\n",
       "</table>\n",
       "</div>"
      ],
      "text/plain": [
       "            Daily Return SYP  Daily Return DOW  Daily Return NASDAQ  \\\n",
       "Date                                                                  \n",
       "2022-01-03          0.385504          0.725378             0.637533   \n",
       "2022-01-04         -0.228321          0.446688            -1.447249   \n",
       "2022-01-05         -1.825613         -0.859123            -2.875060   \n",
       "2022-01-06          0.056668         -0.474009             0.377459   \n",
       "2022-01-07         -0.439163         -0.049462            -1.058706   \n",
       "\n",
       "            Daily Return Dollar  Daily Return EURUSD  Daily Return JPYUSD  \\\n",
       "Date                                                                        \n",
       "2022-01-03             0.595798            -0.003406             0.005208   \n",
       "2022-01-04             0.103959             0.002268             0.010407   \n",
       "2022-01-05            -0.124593            -0.015792             0.007750   \n",
       "2022-01-06             0.051978             0.011307            -0.000861   \n",
       "2022-01-07            -0.540208             0.009034            -0.004319   \n",
       "\n",
       "            Daily Return TBOND  Daily Return VIX  Daily Return GOLD  \\\n",
       "Date                                                                  \n",
       "2022-01-03            6.127769         -5.681818          -1.677501   \n",
       "2022-01-04            0.300661          2.051902           0.749792   \n",
       "2022-01-05            2.710848         15.582893           0.634273   \n",
       "2022-01-06            0.000000         -3.351406           0.089529   \n",
       "2022-01-07            1.840142         -5.491185           0.290208   \n",
       "\n",
       "            Daily Return WTI  \n",
       "Date                          \n",
       "2022-01-03          0.515259  \n",
       "2022-01-04          1.275982  \n",
       "2022-01-05          0.868098  \n",
       "2022-01-06          2.874160  \n",
       "2022-01-07         -0.904297  "
      ]
     },
     "execution_count": 32,
     "metadata": {},
     "output_type": "execute_result"
    }
   ],
   "source": [
    "d = pd.concat([df0, df1, df2, df3, df4, df5, df6, df7, df8, df9], axis=1)\n",
    "d.head()"
   ]
  },
  {
   "cell_type": "code",
   "execution_count": null,
   "id": "69841ae4",
   "metadata": {},
   "outputs": [],
   "source": [
    "#--------------------------HYPOTHESIS TEST-------------------------"
   ]
  },
  {
   "cell_type": "code",
   "execution_count": null,
   "id": "f7981bf2",
   "metadata": {},
   "outputs": [],
   "source": [
    "#Ho: Is the mean of Daily Return SYP = Mean of Daily Return DOW ?\n",
    "#H1: Daily Return SYP > or < Daily Return DOW"
   ]
  },
  {
   "cell_type": "code",
   "execution_count": 42,
   "id": "a5565eb5",
   "metadata": {},
   "outputs": [],
   "source": [
    "mean_sy = d[\"Daily Return SYP\"].mean()"
   ]
  },
  {
   "cell_type": "code",
   "execution_count": 43,
   "id": "a4304ebf",
   "metadata": {},
   "outputs": [
    {
     "data": {
      "text/plain": [
       "-0.042009591615182355"
      ]
     },
     "execution_count": 43,
     "metadata": {},
     "output_type": "execute_result"
    }
   ],
   "source": [
    "mean_syp"
   ]
  },
  {
   "cell_type": "code",
   "execution_count": 44,
   "id": "86abeb0b",
   "metadata": {},
   "outputs": [],
   "source": [
    "import scipy.stats\n",
    "confidence_level1 = 0.95\n",
    "degrees_freedom1 = (d.shape[0]) - 1\n",
    "sample_mean1 = d[\"Daily Return DOW\"].mean()\n",
    "sample_standard_error1 = scipy.stats.sem(d[\"Daily Return DOW\"])\n",
    "confidence_interval1 = scipy.stats.t.interval(confidence_level1, \n",
    "                                             degrees_freedom1, \n",
    "                                             sample_mean1, \n",
    "                                             sample_standard_error1)"
   ]
  },
  {
   "cell_type": "code",
   "execution_count": 45,
   "id": "a8bc5b56",
   "metadata": {},
   "outputs": [
    {
     "name": "stdout",
     "output_type": "stream",
     "text": [
      "confidence interval: (-0.1512595337159671, 0.11348000590907222) .\n"
     ]
    }
   ],
   "source": [
    "print( 'confidence interval:', confidence_interval1, '.' )"
   ]
  },
  {
   "cell_type": "code",
   "execution_count": 46,
   "id": "4ee29276",
   "metadata": {},
   "outputs": [],
   "source": [
    "from scipy.stats import ttest_1samp\n",
    "stat1, pval1 = ttest_1samp(d[\"Daily Return DOW\"], mean_syp)"
   ]
  },
  {
   "cell_type": "code",
   "execution_count": 47,
   "id": "e89d068f",
   "metadata": {},
   "outputs": [
    {
     "name": "stdout",
     "output_type": "stream",
     "text": [
      "stat\t\t\t\t: 0.3439552181024946\n",
      "pvalue for the two-tailed test\t: 0.7311623085038716\n"
     ]
    }
   ],
   "source": [
    "print('stat\\t\\t\\t\\t:', stat1)\n",
    "print('pvalue for the two-tailed test\\t:', pval1)"
   ]
  },
  {
   "cell_type": "code",
   "execution_count": null,
   "id": "0f325c86",
   "metadata": {},
   "outputs": [],
   "source": [
    "#I cannot reject H0\n",
    "#Stat is positive which means that the mean of Daily Return SYP > mean Daily Return DOW"
   ]
  },
  {
   "cell_type": "code",
   "execution_count": 33,
   "id": "0fa85b1a",
   "metadata": {},
   "outputs": [
    {
     "data": {
      "text/plain": [
       "Daily Return SYP       9\n",
       "Daily Return DOW       9\n",
       "Daily Return NASDAQ    9\n",
       "Daily Return Dollar    5\n",
       "Daily Return EURUSD    0\n",
       "Daily Return JPYUSD    0\n",
       "Daily Return TBOND     9\n",
       "Daily Return VIX       9\n",
       "Daily Return GOLD      9\n",
       "Daily Return WTI       8\n",
       "dtype: int64"
      ]
     },
     "execution_count": 33,
     "metadata": {},
     "output_type": "execute_result"
    }
   ],
   "source": [
    "d.isnull().sum()"
   ]
  },
  {
   "cell_type": "code",
   "execution_count": 34,
   "id": "580e918f",
   "metadata": {},
   "outputs": [
    {
     "data": {
      "text/plain": [
       "Daily Return SYP       0\n",
       "Daily Return DOW       0\n",
       "Daily Return NASDAQ    0\n",
       "Daily Return Dollar    0\n",
       "Daily Return EURUSD    0\n",
       "Daily Return JPYUSD    0\n",
       "Daily Return TBOND     0\n",
       "Daily Return VIX       0\n",
       "Daily Return GOLD      0\n",
       "Daily Return WTI       0\n",
       "dtype: int64"
      ]
     },
     "execution_count": 34,
     "metadata": {},
     "output_type": "execute_result"
    }
   ],
   "source": [
    "d = d.apply(lambda x: x.fillna(x.mean()),axis=0)\n",
    "d.isnull().sum()"
   ]
  },
  {
   "cell_type": "code",
   "execution_count": 35,
   "id": "b8a96f9f",
   "metadata": {},
   "outputs": [
    {
     "data": {
      "text/html": [
       "<div>\n",
       "<style scoped>\n",
       "    .dataframe tbody tr th:only-of-type {\n",
       "        vertical-align: middle;\n",
       "    }\n",
       "\n",
       "    .dataframe tbody tr th {\n",
       "        vertical-align: top;\n",
       "    }\n",
       "\n",
       "    .dataframe thead th {\n",
       "        text-align: right;\n",
       "    }\n",
       "</style>\n",
       "<table border=\"1\" class=\"dataframe\">\n",
       "  <thead>\n",
       "    <tr style=\"text-align: right;\">\n",
       "      <th></th>\n",
       "      <th>Date</th>\n",
       "      <th>Daily Return SYP</th>\n",
       "      <th>Daily Return DOW</th>\n",
       "      <th>Daily Return NASDAQ</th>\n",
       "      <th>Daily Return Dollar</th>\n",
       "      <th>Daily Return EURUSD</th>\n",
       "      <th>Daily Return JPYUSD</th>\n",
       "      <th>Daily Return TBOND</th>\n",
       "      <th>Daily Return VIX</th>\n",
       "      <th>Daily Return GOLD</th>\n",
       "      <th>Daily Return WTI</th>\n",
       "    </tr>\n",
       "  </thead>\n",
       "  <tbody>\n",
       "    <tr>\n",
       "      <th>0</th>\n",
       "      <td>2022-01-03</td>\n",
       "      <td>0.385504</td>\n",
       "      <td>0.725378</td>\n",
       "      <td>0.637533</td>\n",
       "      <td>0.595798</td>\n",
       "      <td>-0.003406</td>\n",
       "      <td>0.005208</td>\n",
       "      <td>6.127769</td>\n",
       "      <td>-5.681818</td>\n",
       "      <td>-1.677501</td>\n",
       "      <td>0.515259</td>\n",
       "    </tr>\n",
       "    <tr>\n",
       "      <th>1</th>\n",
       "      <td>2022-01-04</td>\n",
       "      <td>-0.228321</td>\n",
       "      <td>0.446688</td>\n",
       "      <td>-1.447249</td>\n",
       "      <td>0.103959</td>\n",
       "      <td>0.002268</td>\n",
       "      <td>0.010407</td>\n",
       "      <td>0.300661</td>\n",
       "      <td>2.051902</td>\n",
       "      <td>0.749792</td>\n",
       "      <td>1.275982</td>\n",
       "    </tr>\n",
       "    <tr>\n",
       "      <th>2</th>\n",
       "      <td>2022-01-05</td>\n",
       "      <td>-1.825613</td>\n",
       "      <td>-0.859123</td>\n",
       "      <td>-2.875060</td>\n",
       "      <td>-0.124593</td>\n",
       "      <td>-0.015792</td>\n",
       "      <td>0.007750</td>\n",
       "      <td>2.710848</td>\n",
       "      <td>15.582893</td>\n",
       "      <td>0.634273</td>\n",
       "      <td>0.868098</td>\n",
       "    </tr>\n",
       "    <tr>\n",
       "      <th>3</th>\n",
       "      <td>2022-01-06</td>\n",
       "      <td>0.056668</td>\n",
       "      <td>-0.474009</td>\n",
       "      <td>0.377459</td>\n",
       "      <td>0.051978</td>\n",
       "      <td>0.011307</td>\n",
       "      <td>-0.000861</td>\n",
       "      <td>0.000000</td>\n",
       "      <td>-3.351406</td>\n",
       "      <td>0.089529</td>\n",
       "      <td>2.874160</td>\n",
       "    </tr>\n",
       "    <tr>\n",
       "      <th>4</th>\n",
       "      <td>2022-01-07</td>\n",
       "      <td>-0.439163</td>\n",
       "      <td>-0.049462</td>\n",
       "      <td>-1.058706</td>\n",
       "      <td>-0.540208</td>\n",
       "      <td>0.009034</td>\n",
       "      <td>-0.004319</td>\n",
       "      <td>1.840142</td>\n",
       "      <td>-5.491185</td>\n",
       "      <td>0.290208</td>\n",
       "      <td>-0.904297</td>\n",
       "    </tr>\n",
       "  </tbody>\n",
       "</table>\n",
       "</div>"
      ],
      "text/plain": [
       "        Date  Daily Return SYP  Daily Return DOW  Daily Return NASDAQ  \\\n",
       "0 2022-01-03          0.385504          0.725378             0.637533   \n",
       "1 2022-01-04         -0.228321          0.446688            -1.447249   \n",
       "2 2022-01-05         -1.825613         -0.859123            -2.875060   \n",
       "3 2022-01-06          0.056668         -0.474009             0.377459   \n",
       "4 2022-01-07         -0.439163         -0.049462            -1.058706   \n",
       "\n",
       "   Daily Return Dollar  Daily Return EURUSD  Daily Return JPYUSD  \\\n",
       "0             0.595798            -0.003406             0.005208   \n",
       "1             0.103959             0.002268             0.010407   \n",
       "2            -0.124593            -0.015792             0.007750   \n",
       "3             0.051978             0.011307            -0.000861   \n",
       "4            -0.540208             0.009034            -0.004319   \n",
       "\n",
       "   Daily Return TBOND  Daily Return VIX  Daily Return GOLD  Daily Return WTI  \n",
       "0            6.127769         -5.681818          -1.677501          0.515259  \n",
       "1            0.300661          2.051902           0.749792          1.275982  \n",
       "2            2.710848         15.582893           0.634273          0.868098  \n",
       "3            0.000000         -3.351406           0.089529          2.874160  \n",
       "4            1.840142         -5.491185           0.290208         -0.904297  "
      ]
     },
     "execution_count": 35,
     "metadata": {},
     "output_type": "execute_result"
    }
   ],
   "source": [
    "#We have a problem, the index is wrong defined.\n",
    "#We change the Index and add the \"Date\" column into our Dataframe\n",
    "d.reset_index(inplace=True)\n",
    "d = d.rename(columns = {'index':''})\n",
    "d.head()"
   ]
  },
  {
   "cell_type": "code",
   "execution_count": 36,
   "id": "70dc1419",
   "metadata": {},
   "outputs": [],
   "source": [
    "meansyp = d[\"Daily Return SYP\"].mean()"
   ]
  },
  {
   "cell_type": "code",
   "execution_count": 37,
   "id": "7816f72c",
   "metadata": {},
   "outputs": [
    {
     "data": {
      "text/plain": [
       "-0.042009591615182355"
      ]
     },
     "execution_count": 37,
     "metadata": {},
     "output_type": "execute_result"
    }
   ],
   "source": [
    "meansyp"
   ]
  },
  {
   "cell_type": "code",
   "execution_count": 38,
   "id": "9121d0e7",
   "metadata": {},
   "outputs": [],
   "source": [
    "#Convert Date to datetime\n",
    "d['Date']=pd.to_datetime(d['Date'])"
   ]
  },
  {
   "cell_type": "code",
   "execution_count": 39,
   "id": "2e1f983c",
   "metadata": {},
   "outputs": [],
   "source": [
    "datacorr = d.drop('Date', axis=1)"
   ]
  },
  {
   "cell_type": "code",
   "execution_count": null,
   "id": "9548c91e",
   "metadata": {},
   "outputs": [],
   "source": []
  },
  {
   "cell_type": "code",
   "execution_count": 40,
   "id": "f8a7f401",
   "metadata": {},
   "outputs": [],
   "source": [
    "#Correlation for Stock Prices (Using Daily Volatility Column)\n",
    "\n",
    "datacorr.columns = [\"SYP500\", \"DOW\", \"NASDAQ\", \"DOLLAR\", \"EURUSD\", \"USDJPY\", \"TBOND\", \"VIX\", \"GOLD\", \"WTI\"]"
   ]
  },
  {
   "cell_type": "code",
   "execution_count": 41,
   "id": "e90f8789",
   "metadata": {},
   "outputs": [
    {
     "data": {
      "image/png": "[encoded data removed]",
      "text/plain": [
       "<Figure size 640x480 with 2 Axes>"
      ]
     },
     "metadata": {},
     "output_type": "display_data"
    }
   ],
   "source": [
    "heatmap = sns.heatmap(datacorr.corr().round(2), vmin=-1, vmax=1, annot=True)\n",
    "# Give a title to the heatmap. Pad defines the distance of the title from the top of the heatmap.\n",
    "heatmap.set_title('Correlation Daily Return Assets', fontdict={'fontsize':12}, pad=12);"
   ]
  },
  {
   "cell_type": "code",
   "execution_count": null,
   "id": "3fda64af",
   "metadata": {},
   "outputs": [],
   "source": []
  },
  {
   "cell_type": "code",
   "execution_count": null,
   "id": "33d5a3d4",
   "metadata": {},
   "outputs": [],
   "source": []
  },
  {
   "cell_type": "code",
   "execution_count": null,
   "id": "86adf0e6",
   "metadata": {},
   "outputs": [],
   "source": []
  }
 ],
 "metadata": {
  "kernelspec": {
   "display_name": "Python 3 (ipykernel)",
   "language": "python",
   "name": "python3"
  },
  "language_info": {
   "codemirror_mode": {
    "name": "ipython",
    "version": 3
   },
   "file_extension": ".py",
   "mimetype": "text/x-python",
   "name": "python",
   "nbconvert_exporter": "python",
   "pygments_lexer": "ipython3",
   "version": "3.9.13"
  }
 },
 "nbformat": 4,
 "nbformat_minor": 5
}
